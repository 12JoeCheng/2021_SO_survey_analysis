{
 "cells": [
  {
   "cell_type": "markdown",
   "metadata": {},
   "source": [
    "<font size = 6>2021國外論壇Stack Overflow年度調查報告分析</font>"
   ]
  },
  {
   "cell_type": "code",
   "execution_count": 45,
   "metadata": {},
   "outputs": [],
   "source": [
    "import pandas as pd\n",
    "import numpy as np\n",
    "from matplotlib import pyplot as plt"
   ]
  },
  {
   "cell_type": "code",
   "execution_count": 46,
   "metadata": {},
   "outputs": [],
   "source": [
    "df = pd.read_csv('survey_2021/survey_results_public.csv')\n",
    "pd.set_option('display.max_columns', 47)\n",
    "df.rename(columns = {'ResponseId': 'Respondant'}, inplace = True)\n",
    "df = df.set_index('Respondant')"
   ]
  },
  {
   "cell_type": "code",
   "execution_count": 47,
   "metadata": {},
   "outputs": [],
   "source": [
    "schema_df = pd.read_csv('survey_2021/survey_results_schema.csv')\n",
    "schema_df.drop(columns = ['qid'], inplace = True)\n",
    "schema_df.drop(index = [0,2,8,19,29,37,45], inplace = True)\n",
    "schema_df = schema_df.set_index('qname')"
   ]
  },
  {
   "cell_type": "code",
   "execution_count": 48,
   "metadata": {},
   "outputs": [
    {
     "data": {
      "text/html": [
       "<div>\n",
       "<style scoped>\n",
       "    .dataframe tbody tr th:only-of-type {\n",
       "        vertical-align: middle;\n",
       "    }\n",
       "\n",
       "    .dataframe tbody tr th {\n",
       "        vertical-align: top;\n",
       "    }\n",
       "\n",
       "    .dataframe thead th {\n",
       "        text-align: right;\n",
       "    }\n",
       "</style>\n",
       "<table border=\"1\" class=\"dataframe\">\n",
       "  <thead>\n",
       "    <tr style=\"text-align: right;\">\n",
       "      <th></th>\n",
       "      <th>MainBranch</th>\n",
       "      <th>Employment</th>\n",
       "      <th>Country</th>\n",
       "      <th>US_State</th>\n",
       "      <th>UK_Country</th>\n",
       "      <th>EdLevel</th>\n",
       "      <th>Age1stCode</th>\n",
       "      <th>LearnCode</th>\n",
       "      <th>YearsCode</th>\n",
       "      <th>YearsCodePro</th>\n",
       "      <th>DevType</th>\n",
       "      <th>OrgSize</th>\n",
       "      <th>Currency</th>\n",
       "      <th>CompTotal</th>\n",
       "      <th>CompFreq</th>\n",
       "      <th>LanguageHaveWorkedWith</th>\n",
       "      <th>LanguageWantToWorkWith</th>\n",
       "      <th>DatabaseHaveWorkedWith</th>\n",
       "      <th>DatabaseWantToWorkWith</th>\n",
       "      <th>PlatformHaveWorkedWith</th>\n",
       "      <th>PlatformWantToWorkWith</th>\n",
       "      <th>WebframeHaveWorkedWith</th>\n",
       "      <th>WebframeWantToWorkWith</th>\n",
       "      <th>MiscTechHaveWorkedWith</th>\n",
       "      <th>MiscTechWantToWorkWith</th>\n",
       "      <th>ToolsTechHaveWorkedWith</th>\n",
       "      <th>ToolsTechWantToWorkWith</th>\n",
       "      <th>NEWCollabToolsHaveWorkedWith</th>\n",
       "      <th>NEWCollabToolsWantToWorkWith</th>\n",
       "      <th>OpSys</th>\n",
       "      <th>NEWStuck</th>\n",
       "      <th>NEWSOSites</th>\n",
       "      <th>SOVisitFreq</th>\n",
       "      <th>SOAccount</th>\n",
       "      <th>SOPartFreq</th>\n",
       "      <th>SOComm</th>\n",
       "      <th>NEWOtherComms</th>\n",
       "      <th>Age</th>\n",
       "      <th>Gender</th>\n",
       "      <th>Trans</th>\n",
       "      <th>Sexuality</th>\n",
       "      <th>Ethnicity</th>\n",
       "      <th>Accessibility</th>\n",
       "      <th>MentalHealth</th>\n",
       "      <th>SurveyLength</th>\n",
       "      <th>SurveyEase</th>\n",
       "      <th>ConvertedCompYearly</th>\n",
       "    </tr>\n",
       "    <tr>\n",
       "      <th>Respondant</th>\n",
       "      <th></th>\n",
       "      <th></th>\n",
       "      <th></th>\n",
       "      <th></th>\n",
       "      <th></th>\n",
       "      <th></th>\n",
       "      <th></th>\n",
       "      <th></th>\n",
       "      <th></th>\n",
       "      <th></th>\n",
       "      <th></th>\n",
       "      <th></th>\n",
       "      <th></th>\n",
       "      <th></th>\n",
       "      <th></th>\n",
       "      <th></th>\n",
       "      <th></th>\n",
       "      <th></th>\n",
       "      <th></th>\n",
       "      <th></th>\n",
       "      <th></th>\n",
       "      <th></th>\n",
       "      <th></th>\n",
       "      <th></th>\n",
       "      <th></th>\n",
       "      <th></th>\n",
       "      <th></th>\n",
       "      <th></th>\n",
       "      <th></th>\n",
       "      <th></th>\n",
       "      <th></th>\n",
       "      <th></th>\n",
       "      <th></th>\n",
       "      <th></th>\n",
       "      <th></th>\n",
       "      <th></th>\n",
       "      <th></th>\n",
       "      <th></th>\n",
       "      <th></th>\n",
       "      <th></th>\n",
       "      <th></th>\n",
       "      <th></th>\n",
       "      <th></th>\n",
       "      <th></th>\n",
       "      <th></th>\n",
       "      <th></th>\n",
       "      <th></th>\n",
       "    </tr>\n",
       "  </thead>\n",
       "  <tbody>\n",
       "    <tr>\n",
       "      <th>1</th>\n",
       "      <td>I am a developer by profession</td>\n",
       "      <td>Independent contractor, freelancer, or self-em...</td>\n",
       "      <td>Slovakia</td>\n",
       "      <td>NaN</td>\n",
       "      <td>NaN</td>\n",
       "      <td>Secondary school (e.g. American high school, G...</td>\n",
       "      <td>18 - 24 years</td>\n",
       "      <td>Coding Bootcamp;Other online resources (ex: vi...</td>\n",
       "      <td>NaN</td>\n",
       "      <td>NaN</td>\n",
       "      <td>Developer, mobile</td>\n",
       "      <td>20 to 99 employees</td>\n",
       "      <td>EUR European Euro</td>\n",
       "      <td>4800.0</td>\n",
       "      <td>Monthly</td>\n",
       "      <td>C++;HTML/CSS;JavaScript;Objective-C;PHP;Swift</td>\n",
       "      <td>Swift</td>\n",
       "      <td>PostgreSQL;SQLite</td>\n",
       "      <td>SQLite</td>\n",
       "      <td>NaN</td>\n",
       "      <td>NaN</td>\n",
       "      <td>Laravel;Symfony</td>\n",
       "      <td>NaN</td>\n",
       "      <td>NaN</td>\n",
       "      <td>NaN</td>\n",
       "      <td>NaN</td>\n",
       "      <td>NaN</td>\n",
       "      <td>PHPStorm;Xcode</td>\n",
       "      <td>Atom;Xcode</td>\n",
       "      <td>MacOS</td>\n",
       "      <td>Call a coworker or friend;Visit Stack Overflow...</td>\n",
       "      <td>Stack Overflow</td>\n",
       "      <td>Multiple times per day</td>\n",
       "      <td>Yes</td>\n",
       "      <td>A few times per month or weekly</td>\n",
       "      <td>Yes, definitely</td>\n",
       "      <td>No</td>\n",
       "      <td>25-34 years old</td>\n",
       "      <td>Man</td>\n",
       "      <td>No</td>\n",
       "      <td>Straight / Heterosexual</td>\n",
       "      <td>White or of European descent</td>\n",
       "      <td>None of the above</td>\n",
       "      <td>None of the above</td>\n",
       "      <td>Appropriate in length</td>\n",
       "      <td>Easy</td>\n",
       "      <td>62268.0</td>\n",
       "    </tr>\n",
       "    <tr>\n",
       "      <th>2</th>\n",
       "      <td>I am a student who is learning to code</td>\n",
       "      <td>Student, full-time</td>\n",
       "      <td>Netherlands</td>\n",
       "      <td>NaN</td>\n",
       "      <td>NaN</td>\n",
       "      <td>Bachelor’s degree (B.A., B.S., B.Eng., etc.)</td>\n",
       "      <td>11 - 17 years</td>\n",
       "      <td>Other online resources (ex: videos, blogs, etc...</td>\n",
       "      <td>7</td>\n",
       "      <td>NaN</td>\n",
       "      <td>NaN</td>\n",
       "      <td>NaN</td>\n",
       "      <td>NaN</td>\n",
       "      <td>NaN</td>\n",
       "      <td>NaN</td>\n",
       "      <td>JavaScript;Python</td>\n",
       "      <td>NaN</td>\n",
       "      <td>PostgreSQL</td>\n",
       "      <td>NaN</td>\n",
       "      <td>NaN</td>\n",
       "      <td>NaN</td>\n",
       "      <td>Angular;Flask;Vue.js</td>\n",
       "      <td>NaN</td>\n",
       "      <td>Cordova</td>\n",
       "      <td>NaN</td>\n",
       "      <td>Docker;Git;Yarn</td>\n",
       "      <td>Git</td>\n",
       "      <td>Android Studio;IntelliJ;Notepad++;PyCharm</td>\n",
       "      <td>NaN</td>\n",
       "      <td>Windows</td>\n",
       "      <td>Visit Stack Overflow;Google it</td>\n",
       "      <td>Stack Overflow</td>\n",
       "      <td>Daily or almost daily</td>\n",
       "      <td>Yes</td>\n",
       "      <td>Daily or almost daily</td>\n",
       "      <td>Yes, definitely</td>\n",
       "      <td>No</td>\n",
       "      <td>18-24 years old</td>\n",
       "      <td>Man</td>\n",
       "      <td>No</td>\n",
       "      <td>Straight / Heterosexual</td>\n",
       "      <td>White or of European descent</td>\n",
       "      <td>None of the above</td>\n",
       "      <td>None of the above</td>\n",
       "      <td>Appropriate in length</td>\n",
       "      <td>Easy</td>\n",
       "      <td>NaN</td>\n",
       "    </tr>\n",
       "    <tr>\n",
       "      <th>3</th>\n",
       "      <td>I am not primarily a developer, but I write co...</td>\n",
       "      <td>Student, full-time</td>\n",
       "      <td>Russian Federation</td>\n",
       "      <td>NaN</td>\n",
       "      <td>NaN</td>\n",
       "      <td>Bachelor’s degree (B.A., B.S., B.Eng., etc.)</td>\n",
       "      <td>11 - 17 years</td>\n",
       "      <td>Other online resources (ex: videos, blogs, etc...</td>\n",
       "      <td>NaN</td>\n",
       "      <td>NaN</td>\n",
       "      <td>NaN</td>\n",
       "      <td>NaN</td>\n",
       "      <td>NaN</td>\n",
       "      <td>NaN</td>\n",
       "      <td>NaN</td>\n",
       "      <td>Assembly;C;Python;R;Rust</td>\n",
       "      <td>Julia;Python;Rust</td>\n",
       "      <td>SQLite</td>\n",
       "      <td>SQLite</td>\n",
       "      <td>Heroku</td>\n",
       "      <td>NaN</td>\n",
       "      <td>Flask</td>\n",
       "      <td>Flask</td>\n",
       "      <td>NumPy;Pandas;TensorFlow;Torch/PyTorch</td>\n",
       "      <td>Keras;NumPy;Pandas;TensorFlow;Torch/PyTorch</td>\n",
       "      <td>NaN</td>\n",
       "      <td>NaN</td>\n",
       "      <td>IPython/Jupyter;PyCharm;RStudio;Sublime Text;V...</td>\n",
       "      <td>IPython/Jupyter;RStudio;Sublime Text;Visual St...</td>\n",
       "      <td>MacOS</td>\n",
       "      <td>Visit Stack Overflow;Google it;Watch help / tu...</td>\n",
       "      <td>Stack Overflow;Stack Exchange</td>\n",
       "      <td>Multiple times per day</td>\n",
       "      <td>Yes</td>\n",
       "      <td>Multiple times per day</td>\n",
       "      <td>Yes, definitely</td>\n",
       "      <td>Yes</td>\n",
       "      <td>18-24 years old</td>\n",
       "      <td>Man</td>\n",
       "      <td>No</td>\n",
       "      <td>Prefer not to say</td>\n",
       "      <td>Prefer not to say</td>\n",
       "      <td>None of the above</td>\n",
       "      <td>None of the above</td>\n",
       "      <td>Appropriate in length</td>\n",
       "      <td>Easy</td>\n",
       "      <td>NaN</td>\n",
       "    </tr>\n",
       "    <tr>\n",
       "      <th>4</th>\n",
       "      <td>I am a developer by profession</td>\n",
       "      <td>Employed full-time</td>\n",
       "      <td>Austria</td>\n",
       "      <td>NaN</td>\n",
       "      <td>NaN</td>\n",
       "      <td>Master’s degree (M.A., M.S., M.Eng., MBA, etc.)</td>\n",
       "      <td>11 - 17 years</td>\n",
       "      <td>NaN</td>\n",
       "      <td>NaN</td>\n",
       "      <td>NaN</td>\n",
       "      <td>Developer, front-end</td>\n",
       "      <td>100 to 499 employees</td>\n",
       "      <td>EUR European Euro</td>\n",
       "      <td>NaN</td>\n",
       "      <td>Monthly</td>\n",
       "      <td>JavaScript;TypeScript</td>\n",
       "      <td>JavaScript;TypeScript</td>\n",
       "      <td>NaN</td>\n",
       "      <td>NaN</td>\n",
       "      <td>NaN</td>\n",
       "      <td>NaN</td>\n",
       "      <td>Angular;jQuery</td>\n",
       "      <td>Angular;jQuery</td>\n",
       "      <td>NaN</td>\n",
       "      <td>NaN</td>\n",
       "      <td>NaN</td>\n",
       "      <td>NaN</td>\n",
       "      <td>NaN</td>\n",
       "      <td>NaN</td>\n",
       "      <td>Windows</td>\n",
       "      <td>Call a coworker or friend;Visit Stack Overflow...</td>\n",
       "      <td>Stack Overflow</td>\n",
       "      <td>Daily or almost daily</td>\n",
       "      <td>Yes</td>\n",
       "      <td>Daily or almost daily</td>\n",
       "      <td>Neutral</td>\n",
       "      <td>No</td>\n",
       "      <td>35-44 years old</td>\n",
       "      <td>Man</td>\n",
       "      <td>No</td>\n",
       "      <td>Straight / Heterosexual</td>\n",
       "      <td>White or of European descent</td>\n",
       "      <td>I am deaf / hard of hearing</td>\n",
       "      <td>NaN</td>\n",
       "      <td>Appropriate in length</td>\n",
       "      <td>Neither easy nor difficult</td>\n",
       "      <td>NaN</td>\n",
       "    </tr>\n",
       "    <tr>\n",
       "      <th>5</th>\n",
       "      <td>I am a developer by profession</td>\n",
       "      <td>Independent contractor, freelancer, or self-em...</td>\n",
       "      <td>United Kingdom of Great Britain and Northern I...</td>\n",
       "      <td>NaN</td>\n",
       "      <td>England</td>\n",
       "      <td>Master’s degree (M.A., M.S., M.Eng., MBA, etc.)</td>\n",
       "      <td>5 - 10 years</td>\n",
       "      <td>Friend or family member</td>\n",
       "      <td>17</td>\n",
       "      <td>10</td>\n",
       "      <td>Developer, desktop or enterprise applications;...</td>\n",
       "      <td>Just me - I am a freelancer, sole proprietor, ...</td>\n",
       "      <td>GBP\\tPound sterling</td>\n",
       "      <td>NaN</td>\n",
       "      <td>NaN</td>\n",
       "      <td>Bash/Shell;HTML/CSS;Python;SQL</td>\n",
       "      <td>Bash/Shell;HTML/CSS;Python;SQL</td>\n",
       "      <td>Elasticsearch;PostgreSQL;Redis</td>\n",
       "      <td>Cassandra;Elasticsearch;PostgreSQL;Redis</td>\n",
       "      <td>NaN</td>\n",
       "      <td>NaN</td>\n",
       "      <td>Flask</td>\n",
       "      <td>Flask</td>\n",
       "      <td>Apache Spark;Hadoop;NumPy;Pandas</td>\n",
       "      <td>Hadoop;NumPy;Pandas</td>\n",
       "      <td>Docker;Git;Kubernetes;Yarn</td>\n",
       "      <td>Docker;Git;Kubernetes;Yarn</td>\n",
       "      <td>Atom;IPython/Jupyter;Notepad++;PyCharm;Vim</td>\n",
       "      <td>Atom;IPython/Jupyter;Notepad++;PyCharm;Vim;Vis...</td>\n",
       "      <td>Linux-based</td>\n",
       "      <td>Visit Stack Overflow;Go for a walk or other ph...</td>\n",
       "      <td>Stack Overflow;Stack Exchange</td>\n",
       "      <td>Daily or almost daily</td>\n",
       "      <td>Yes</td>\n",
       "      <td>A few times per week</td>\n",
       "      <td>Yes, somewhat</td>\n",
       "      <td>No</td>\n",
       "      <td>25-34 years old</td>\n",
       "      <td>Man</td>\n",
       "      <td>No</td>\n",
       "      <td>NaN</td>\n",
       "      <td>White or of European descent</td>\n",
       "      <td>None of the above</td>\n",
       "      <td>NaN</td>\n",
       "      <td>Appropriate in length</td>\n",
       "      <td>Easy</td>\n",
       "      <td>NaN</td>\n",
       "    </tr>\n",
       "  </tbody>\n",
       "</table>\n",
       "</div>"
      ],
      "text/plain": [
       "                                                   MainBranch  \\\n",
       "Respondant                                                      \n",
       "1                              I am a developer by profession   \n",
       "2                      I am a student who is learning to code   \n",
       "3           I am not primarily a developer, but I write co...   \n",
       "4                              I am a developer by profession   \n",
       "5                              I am a developer by profession   \n",
       "\n",
       "                                                   Employment  \\\n",
       "Respondant                                                      \n",
       "1           Independent contractor, freelancer, or self-em...   \n",
       "2                                          Student, full-time   \n",
       "3                                          Student, full-time   \n",
       "4                                          Employed full-time   \n",
       "5           Independent contractor, freelancer, or self-em...   \n",
       "\n",
       "                                                      Country US_State  \\\n",
       "Respondant                                                               \n",
       "1                                                    Slovakia      NaN   \n",
       "2                                                 Netherlands      NaN   \n",
       "3                                          Russian Federation      NaN   \n",
       "4                                                     Austria      NaN   \n",
       "5           United Kingdom of Great Britain and Northern I...      NaN   \n",
       "\n",
       "           UK_Country                                            EdLevel  \\\n",
       "Respondant                                                                 \n",
       "1                 NaN  Secondary school (e.g. American high school, G...   \n",
       "2                 NaN       Bachelor’s degree (B.A., B.S., B.Eng., etc.)   \n",
       "3                 NaN       Bachelor’s degree (B.A., B.S., B.Eng., etc.)   \n",
       "4                 NaN    Master’s degree (M.A., M.S., M.Eng., MBA, etc.)   \n",
       "5             England    Master’s degree (M.A., M.S., M.Eng., MBA, etc.)   \n",
       "\n",
       "               Age1stCode                                          LearnCode  \\\n",
       "Respondant                                                                     \n",
       "1           18 - 24 years  Coding Bootcamp;Other online resources (ex: vi...   \n",
       "2           11 - 17 years  Other online resources (ex: videos, blogs, etc...   \n",
       "3           11 - 17 years  Other online resources (ex: videos, blogs, etc...   \n",
       "4           11 - 17 years                                                NaN   \n",
       "5            5 - 10 years                            Friend or family member   \n",
       "\n",
       "           YearsCode YearsCodePro  \\\n",
       "Respondant                          \n",
       "1                NaN          NaN   \n",
       "2                  7          NaN   \n",
       "3                NaN          NaN   \n",
       "4                NaN          NaN   \n",
       "5                 17           10   \n",
       "\n",
       "                                                      DevType  \\\n",
       "Respondant                                                      \n",
       "1                                           Developer, mobile   \n",
       "2                                                         NaN   \n",
       "3                                                         NaN   \n",
       "4                                        Developer, front-end   \n",
       "5           Developer, desktop or enterprise applications;...   \n",
       "\n",
       "                                                      OrgSize  \\\n",
       "Respondant                                                      \n",
       "1                                          20 to 99 employees   \n",
       "2                                                         NaN   \n",
       "3                                                         NaN   \n",
       "4                                        100 to 499 employees   \n",
       "5           Just me - I am a freelancer, sole proprietor, ...   \n",
       "\n",
       "                       Currency  CompTotal CompFreq  \\\n",
       "Respondant                                            \n",
       "1             EUR European Euro     4800.0  Monthly   \n",
       "2                           NaN        NaN      NaN   \n",
       "3                           NaN        NaN      NaN   \n",
       "4             EUR European Euro        NaN  Monthly   \n",
       "5           GBP\\tPound sterling        NaN      NaN   \n",
       "\n",
       "                                   LanguageHaveWorkedWith  \\\n",
       "Respondant                                                  \n",
       "1           C++;HTML/CSS;JavaScript;Objective-C;PHP;Swift   \n",
       "2                                       JavaScript;Python   \n",
       "3                                Assembly;C;Python;R;Rust   \n",
       "4                                   JavaScript;TypeScript   \n",
       "5                          Bash/Shell;HTML/CSS;Python;SQL   \n",
       "\n",
       "                    LanguageWantToWorkWith          DatabaseHaveWorkedWith  \\\n",
       "Respondant                                                                   \n",
       "1                                    Swift               PostgreSQL;SQLite   \n",
       "2                                      NaN                      PostgreSQL   \n",
       "3                        Julia;Python;Rust                          SQLite   \n",
       "4                    JavaScript;TypeScript                             NaN   \n",
       "5           Bash/Shell;HTML/CSS;Python;SQL  Elasticsearch;PostgreSQL;Redis   \n",
       "\n",
       "                              DatabaseWantToWorkWith PlatformHaveWorkedWith  \\\n",
       "Respondant                                                                    \n",
       "1                                             SQLite                    NaN   \n",
       "2                                                NaN                    NaN   \n",
       "3                                             SQLite                 Heroku   \n",
       "4                                                NaN                    NaN   \n",
       "5           Cassandra;Elasticsearch;PostgreSQL;Redis                    NaN   \n",
       "\n",
       "           PlatformWantToWorkWith WebframeHaveWorkedWith  \\\n",
       "Respondant                                                 \n",
       "1                             NaN        Laravel;Symfony   \n",
       "2                             NaN   Angular;Flask;Vue.js   \n",
       "3                             NaN                  Flask   \n",
       "4                             NaN         Angular;jQuery   \n",
       "5                             NaN                  Flask   \n",
       "\n",
       "           WebframeWantToWorkWith                 MiscTechHaveWorkedWith  \\\n",
       "Respondant                                                                 \n",
       "1                             NaN                                    NaN   \n",
       "2                             NaN                                Cordova   \n",
       "3                           Flask  NumPy;Pandas;TensorFlow;Torch/PyTorch   \n",
       "4                  Angular;jQuery                                    NaN   \n",
       "5                           Flask       Apache Spark;Hadoop;NumPy;Pandas   \n",
       "\n",
       "                                 MiscTechWantToWorkWith  \\\n",
       "Respondant                                                \n",
       "1                                                   NaN   \n",
       "2                                                   NaN   \n",
       "3           Keras;NumPy;Pandas;TensorFlow;Torch/PyTorch   \n",
       "4                                                   NaN   \n",
       "5                                   Hadoop;NumPy;Pandas   \n",
       "\n",
       "               ToolsTechHaveWorkedWith     ToolsTechWantToWorkWith  \\\n",
       "Respondant                                                           \n",
       "1                                  NaN                         NaN   \n",
       "2                      Docker;Git;Yarn                         Git   \n",
       "3                                  NaN                         NaN   \n",
       "4                                  NaN                         NaN   \n",
       "5           Docker;Git;Kubernetes;Yarn  Docker;Git;Kubernetes;Yarn   \n",
       "\n",
       "                                 NEWCollabToolsHaveWorkedWith  \\\n",
       "Respondant                                                      \n",
       "1                                              PHPStorm;Xcode   \n",
       "2                   Android Studio;IntelliJ;Notepad++;PyCharm   \n",
       "3           IPython/Jupyter;PyCharm;RStudio;Sublime Text;V...   \n",
       "4                                                         NaN   \n",
       "5                  Atom;IPython/Jupyter;Notepad++;PyCharm;Vim   \n",
       "\n",
       "                                 NEWCollabToolsWantToWorkWith        OpSys  \\\n",
       "Respondant                                                                   \n",
       "1                                                  Atom;Xcode        MacOS   \n",
       "2                                                         NaN      Windows   \n",
       "3           IPython/Jupyter;RStudio;Sublime Text;Visual St...        MacOS   \n",
       "4                                                         NaN      Windows   \n",
       "5           Atom;IPython/Jupyter;Notepad++;PyCharm;Vim;Vis...  Linux-based   \n",
       "\n",
       "                                                     NEWStuck  \\\n",
       "Respondant                                                      \n",
       "1           Call a coworker or friend;Visit Stack Overflow...   \n",
       "2                              Visit Stack Overflow;Google it   \n",
       "3           Visit Stack Overflow;Google it;Watch help / tu...   \n",
       "4           Call a coworker or friend;Visit Stack Overflow...   \n",
       "5           Visit Stack Overflow;Go for a walk or other ph...   \n",
       "\n",
       "                               NEWSOSites             SOVisitFreq SOAccount  \\\n",
       "Respondant                                                                    \n",
       "1                          Stack Overflow  Multiple times per day       Yes   \n",
       "2                          Stack Overflow   Daily or almost daily       Yes   \n",
       "3           Stack Overflow;Stack Exchange  Multiple times per day       Yes   \n",
       "4                          Stack Overflow   Daily or almost daily       Yes   \n",
       "5           Stack Overflow;Stack Exchange   Daily or almost daily       Yes   \n",
       "\n",
       "                                 SOPartFreq           SOComm NEWOtherComms  \\\n",
       "Respondant                                                                   \n",
       "1           A few times per month or weekly  Yes, definitely            No   \n",
       "2                     Daily or almost daily  Yes, definitely            No   \n",
       "3                    Multiple times per day  Yes, definitely           Yes   \n",
       "4                     Daily or almost daily          Neutral            No   \n",
       "5                      A few times per week    Yes, somewhat            No   \n",
       "\n",
       "                        Age Gender Trans                Sexuality  \\\n",
       "Respondant                                                          \n",
       "1           25-34 years old    Man    No  Straight / Heterosexual   \n",
       "2           18-24 years old    Man    No  Straight / Heterosexual   \n",
       "3           18-24 years old    Man    No        Prefer not to say   \n",
       "4           35-44 years old    Man    No  Straight / Heterosexual   \n",
       "5           25-34 years old    Man    No                      NaN   \n",
       "\n",
       "                               Ethnicity                Accessibility  \\\n",
       "Respondant                                                              \n",
       "1           White or of European descent            None of the above   \n",
       "2           White or of European descent            None of the above   \n",
       "3                      Prefer not to say            None of the above   \n",
       "4           White or of European descent  I am deaf / hard of hearing   \n",
       "5           White or of European descent            None of the above   \n",
       "\n",
       "                 MentalHealth           SurveyLength  \\\n",
       "Respondant                                             \n",
       "1           None of the above  Appropriate in length   \n",
       "2           None of the above  Appropriate in length   \n",
       "3           None of the above  Appropriate in length   \n",
       "4                         NaN  Appropriate in length   \n",
       "5                         NaN  Appropriate in length   \n",
       "\n",
       "                            SurveyEase  ConvertedCompYearly  \n",
       "Respondant                                                   \n",
       "1                                 Easy              62268.0  \n",
       "2                                 Easy                  NaN  \n",
       "3                                 Easy                  NaN  \n",
       "4           Neither easy nor difficult                  NaN  \n",
       "5                                 Easy                  NaN  "
      ]
     },
     "execution_count": 48,
     "metadata": {},
     "output_type": "execute_result"
    }
   ],
   "source": [
    "df.head()"
   ]
  },
  {
   "cell_type": "code",
   "execution_count": 49,
   "metadata": {},
   "outputs": [
    {
     "data": {
      "text/html": [
       "<div>\n",
       "<style scoped>\n",
       "    .dataframe tbody tr th:only-of-type {\n",
       "        vertical-align: middle;\n",
       "    }\n",
       "\n",
       "    .dataframe tbody tr th {\n",
       "        vertical-align: top;\n",
       "    }\n",
       "\n",
       "    .dataframe thead th {\n",
       "        text-align: right;\n",
       "    }\n",
       "</style>\n",
       "<table border=\"1\" class=\"dataframe\">\n",
       "  <thead>\n",
       "    <tr style=\"text-align: right;\">\n",
       "      <th></th>\n",
       "      <th>question</th>\n",
       "      <th>force_resp</th>\n",
       "      <th>type</th>\n",
       "      <th>selector</th>\n",
       "    </tr>\n",
       "    <tr>\n",
       "      <th>qname</th>\n",
       "      <th></th>\n",
       "      <th></th>\n",
       "      <th></th>\n",
       "      <th></th>\n",
       "    </tr>\n",
       "  </thead>\n",
       "  <tbody>\n",
       "    <tr>\n",
       "      <th>MetaInfo</th>\n",
       "      <td>Browser Meta Info</td>\n",
       "      <td>False</td>\n",
       "      <td>Meta</td>\n",
       "      <td>Browser</td>\n",
       "    </tr>\n",
       "    <tr>\n",
       "      <th>MainBranch</th>\n",
       "      <td>Which of the following options best describes ...</td>\n",
       "      <td>True</td>\n",
       "      <td>MC</td>\n",
       "      <td>SAVR</td>\n",
       "    </tr>\n",
       "    <tr>\n",
       "      <th>Employment</th>\n",
       "      <td>Which of the following best describes your cur...</td>\n",
       "      <td>False</td>\n",
       "      <td>MC</td>\n",
       "      <td>MAVR</td>\n",
       "    </tr>\n",
       "    <tr>\n",
       "      <th>Country</th>\n",
       "      <td>Where do you live? &lt;span style=\"font-weight: b...</td>\n",
       "      <td>True</td>\n",
       "      <td>MC</td>\n",
       "      <td>DL</td>\n",
       "    </tr>\n",
       "    <tr>\n",
       "      <th>US_State</th>\n",
       "      <td>&lt;p&gt;In which state or territory of the USA do y...</td>\n",
       "      <td>False</td>\n",
       "      <td>MC</td>\n",
       "      <td>DL</td>\n",
       "    </tr>\n",
       "  </tbody>\n",
       "</table>\n",
       "</div>"
      ],
      "text/plain": [
       "                                                     question  force_resp  \\\n",
       "qname                                                                       \n",
       "MetaInfo                                    Browser Meta Info       False   \n",
       "MainBranch  Which of the following options best describes ...        True   \n",
       "Employment  Which of the following best describes your cur...       False   \n",
       "Country     Where do you live? <span style=\"font-weight: b...        True   \n",
       "US_State    <p>In which state or territory of the USA do y...       False   \n",
       "\n",
       "            type selector  \n",
       "qname                      \n",
       "MetaInfo    Meta  Browser  \n",
       "MainBranch    MC     SAVR  \n",
       "Employment    MC     MAVR  \n",
       "Country       MC       DL  \n",
       "US_State      MC       DL  "
      ]
     },
     "execution_count": 49,
     "metadata": {},
     "output_type": "execute_result"
    }
   ],
   "source": [
    "schema_df.head()"
   ]
  },
  {
   "cell_type": "markdown",
   "metadata": {},
   "source": [
    "##"
   ]
  },
  {
   "cell_type": "markdown",
   "metadata": {},
   "source": [
    "<font size = 5>平均寫程式經驗</font>"
   ]
  },
  {
   "cell_type": "code",
   "execution_count": 50,
   "metadata": {},
   "outputs": [
    {
     "data": {
      "text/plain": [
       "array([nan, '7', '17', '3', '4', '6', '16', '12', '15', '10', '40', '9',\n",
       "       '26', '14', '39', '20', '8', '19', '5', 'Less than 1 year', '22',\n",
       "       '2', '1', '34', '21', '13', '25', '24', '30', '31', '18', '38',\n",
       "       'More than 50 years', '27', '41', '42', '35', '23', '28', '11',\n",
       "       '37', '44', '43', '36', '33', '45', '29', '50', '46', '32', '47',\n",
       "       '49', '48'], dtype=object)"
      ]
     },
     "execution_count": 50,
     "metadata": {},
     "output_type": "execute_result"
    }
   ],
   "source": [
    "df['YearsCode'].unique()"
   ]
  },
  {
   "cell_type": "code",
   "execution_count": 51,
   "metadata": {},
   "outputs": [],
   "source": [
    "df['YearsCode'] = df['YearsCode'].replace('nan', np.NaN)\n",
    "df['YearsCode'] = df['YearsCode'].replace('Less than 1 year', 0)\n",
    "df['YearsCode'] = df['YearsCode'].replace('More than 50 years', 51)\n",
    "df['YearsCode'] = df['YearsCode'].astype(float)"
   ]
  },
  {
   "cell_type": "code",
   "execution_count": 52,
   "metadata": {},
   "outputs": [
    {
     "data": {
      "image/png": "[encoded data removed]",
      "text/plain": [
       "<Figure size 576x432 with 1 Axes>"
      ]
     },
     "metadata": {},
     "output_type": "display_data"
    }
   ],
   "source": [
    "plt.style.use('ggplot')\n",
    "plt.figure(figsize = (8,6))\n",
    "bins = list(range(0,70,10))\n",
    "plt.hist(df['YearsCode'], bins = bins, edgecolor = 'black', log = True)\n",
    "\n",
    "average_year = int(df['YearsCode'].mean())\n",
    "color = 'yellow'\n",
    "plt.axvline(average_year, color = color, label = '平均值: 12.3年', linewidth = 1)\n",
    "\n",
    "plt.title('2021平均寫程式年數', fontsize = 20)\n",
    "\n",
    "plt.xlabel('年數', fontsize = 15)\n",
    "\n",
    "plt.ylabel('對數(比例數)', fontsize = 15)\n",
    "plt.legend(loc = 'best', fontsize = 15)\n",
    "plt.tight_layout()\n",
    "plt.show()"
   ]
  },
  {
   "cell_type": "markdown",
   "metadata": {},
   "source": [
    "##"
   ]
  },
  {
   "cell_type": "markdown",
   "metadata": {},
   "source": [
    "##"
   ]
  },
  {
   "cell_type": "markdown",
   "metadata": {},
   "source": [
    "<font size = 5>語言歡迎程度</font>"
   ]
  },
  {
   "cell_type": "code",
   "execution_count": 53,
   "metadata": {},
   "outputs": [],
   "source": [
    "from collections import Counter\n",
    "\n",
    "result_counter = Counter()\n",
    "df['LanguageHaveWorkedWith'].replace(np.NaN, 'None', inplace = True)\n",
    "\n",
    "for x in df['LanguageHaveWorkedWith'].str.split(';'):\n",
    "    result_counter.update(x)\n",
    "\n",
    "\n",
    "most_common = result_counter.most_common(15)\n",
    "\n",
    "lang = []\n",
    "popu = []\n",
    "\n",
    "for item in most_common:\n",
    "    lang.append(item[0])\n",
    "    popu.append(item[1])\n",
    "\n",
    "lang.reverse()\n",
    "popu.reverse()"
   ]
  },
  {
   "cell_type": "code",
   "execution_count": 54,
   "metadata": {},
   "outputs": [
    {
     "data": {
      "image/png": "[encoded data removed]",
      "text/plain": [
       "<Figure size 576x432 with 1 Axes>"
      ]
     },
     "metadata": {},
     "output_type": "display_data"
    }
   ],
   "source": [
    "plt.style.use('ggplot')\n",
    "plt.figure(figsize = (8,6))\n",
    "\n",
    "plt.barh(lang, popu, log = True)\n",
    "\n",
    "plt.title('2021最受歡迎前15名語言', fontsize = 20)\n",
    "plt.xlabel('對數(比例數)', fontsize = 15)\n",
    "\n",
    "plt.tight_layout()\n",
    "plt.show()"
   ]
  },
  {
   "cell_type": "markdown",
   "metadata": {},
   "source": [
    "##"
   ]
  },
  {
   "cell_type": "markdown",
   "metadata": {},
   "source": [
    "##"
   ]
  },
  {
   "cell_type": "markdown",
   "metadata": {},
   "source": [
    "<font size = 5>作業系統</font>"
   ]
  },
  {
   "cell_type": "code",
   "execution_count": 55,
   "metadata": {},
   "outputs": [
    {
     "data": {
      "text/plain": [
       "array(['MacOS', 'Windows', 'Linux-based', 'BSD',\n",
       "       'Other (please specify):', nan,\n",
       "       'Windows Subsystem for Linux (WSL)'], dtype=object)"
      ]
     },
     "execution_count": 55,
     "metadata": {},
     "output_type": "execute_result"
    }
   ],
   "source": [
    "df['OpSys'].unique()"
   ]
  },
  {
   "cell_type": "code",
   "execution_count": 56,
   "metadata": {},
   "outputs": [],
   "source": [
    "df['OpSys'] = df['OpSys'].replace(np.NaN, 'No-info')\n",
    "df['OpSys'] = df['OpSys'].replace('Other (please specify):', 'No-info')\n",
    "df['OpSys'] = df['OpSys'].replace('Windows Subsystem for Linux (WSL)', 'WSL')"
   ]
  },
  {
   "cell_type": "code",
   "execution_count": 57,
   "metadata": {},
   "outputs": [],
   "source": [
    "sys_counter = Counter()\n",
    "sys_counter.update(df['OpSys'])\n",
    "del sys_counter['No-info']\n",
    "oper = list(sys_counter.keys())\n",
    "popu = list(sys_counter.values())"
   ]
  },
  {
   "cell_type": "code",
   "execution_count": 58,
   "metadata": {},
   "outputs": [
    {
     "data": {
      "image/png": "[encoded data removed]",
      "text/plain": [
       "<Figure size 432x432 with 1 Axes>"
      ]
     },
     "metadata": {},
     "output_type": "display_data"
    }
   ],
   "source": [
    "plt.style.use('ggplot')\n",
    "plt.figure(figsize = (6,6))\n",
    "\n",
    "slices = popu\n",
    "labels = oper\n",
    "\n",
    "plt.pie(slices,\n",
    "        wedgeprops = {'edgecolor':'black'},\n",
    "        autopct = '%1.1f%%',\n",
    "        shadow = True\n",
    "        )\n",
    "\n",
    "plt.legend(labels, loc = 'lower left')\n",
    "plt.title('2021作業系統使用排名', fontsize = 20)\n",
    "\n",
    "\n",
    "plt.tight_layout()\n",
    "plt.show()"
   ]
  },
  {
   "cell_type": "markdown",
   "metadata": {},
   "source": [
    "##"
   ]
  },
  {
   "cell_type": "markdown",
   "metadata": {},
   "source": [
    "##"
   ]
  },
  {
   "cell_type": "markdown",
   "metadata": {},
   "source": [
    "<font size = 5>資料庫管理系統歡迎程度</font>"
   ]
  },
  {
   "cell_type": "code",
   "execution_count": 59,
   "metadata": {},
   "outputs": [],
   "source": [
    "result_counter = Counter()\n",
    "df['DatabaseHaveWorkedWith'].replace(np.NaN, 'None', inplace = True)\n",
    "\n",
    "for x in df['DatabaseHaveWorkedWith'].str.split(';'):\n",
    "    result_counter.update(x)\n",
    "\n",
    "\n",
    "most_common = result_counter.most_common(15)\n",
    "\n",
    "db = []\n",
    "popu = []\n",
    "\n",
    "for item in most_common:\n",
    "    db.append(item[0])\n",
    "    popu.append(item[1])\n",
    "\n",
    "db.reverse()\n",
    "popu.reverse()"
   ]
  },
  {
   "cell_type": "code",
   "execution_count": 60,
   "metadata": {},
   "outputs": [
    {
     "data": {
      "image/png": "[encoded data removed]",
      "text/plain": [
       "<Figure size 576x432 with 1 Axes>"
      ]
     },
     "metadata": {},
     "output_type": "display_data"
    }
   ],
   "source": [
    "plt.style.use('ggplot')\n",
    "plt.figure(figsize = (8,6))\n",
    "\n",
    "plt.barh(db, popu,log = True)\n",
    "\n",
    "plt.title('2021最受歡迎前15名資料庫管理系統', fontsize = 20)\n",
    "plt.xlabel('對數(比例數)', fontsize = 15)\n",
    "\n",
    "plt.tight_layout()\n",
    "plt.show()"
   ]
  },
  {
   "cell_type": "markdown",
   "metadata": {},
   "source": [
    "##"
   ]
  },
  {
   "cell_type": "markdown",
   "metadata": {},
   "source": [
    "<font size = 5>受訪者年齡與性別分布</font>"
   ]
  },
  {
   "cell_type": "markdown",
   "metadata": {},
   "source": [
    "<font size =4>年齡</font>"
   ]
  },
  {
   "cell_type": "code",
   "execution_count": 61,
   "metadata": {},
   "outputs": [
    {
     "data": {
      "text/plain": [
       "array(['25-34 years old', '18-24 years old', '35-44 years old',\n",
       "       'Prefer not to say', '45-54 years old', 'Under 18 years old',\n",
       "       '65 years or older', '55-64 years old', nan], dtype=object)"
      ]
     },
     "execution_count": 61,
     "metadata": {},
     "output_type": "execute_result"
    }
   ],
   "source": [
    "df['Age'].unique()"
   ]
  },
  {
   "cell_type": "code",
   "execution_count": 62,
   "metadata": {},
   "outputs": [],
   "source": [
    "df['Age'] = df['Age'].str.replace('years old', '')\n",
    "df['Age']= df['Age'].str.replace('Under', '<')\n",
    "df['Age'].replace('65 years or older', '>= 65 ', inplace = True)"
   ]
  },
  {
   "cell_type": "code",
   "execution_count": 63,
   "metadata": {},
   "outputs": [
    {
     "data": {
      "text/plain": [
       "{'25-34 ': '39.52%',\n",
       " '18-24 ': '25.47%',\n",
       " '35-44 ': '18.42%',\n",
       " 'Prefer not to say': '0.7%',\n",
       " '45-54 ': '6.64%',\n",
       " '< 18 ': '6.52%',\n",
       " '>= 65 ': '0.51%',\n",
       " '55-64 ': '2.21%'}"
      ]
     },
     "execution_count": 63,
     "metadata": {},
     "output_type": "execute_result"
    }
   ],
   "source": [
    "age_counter = Counter()\n",
    "age_counter.update(df['Age'])\n",
    "del age_counter[np.NaN]\n",
    "\n",
    "age_list = list(age_counter.values())\n",
    "age_np_list = np.array(list(age_counter.values()))\n",
    "x = 0\n",
    "for b in age_list:\n",
    "    x = x + b\n",
    "\n",
    "age_percentage = (age_np_list *100 / x).round(2)\n",
    "\n",
    "age_pct = []\n",
    "for x in age_percentage:\n",
    "    x = str(x) + '%'\n",
    "    age_pct.append(x)\n",
    "\n",
    "i = 0\n",
    "age_dict = {}\n",
    "for x in age_counter.keys():\n",
    "    age_dict[x] = age_pct[i]\n",
    "    i += 1\n",
    "\n",
    "age_dict"
   ]
  },
  {
   "cell_type": "markdown",
   "metadata": {},
   "source": [
    "##"
   ]
  },
  {
   "cell_type": "markdown",
   "metadata": {},
   "source": [
    "<font size =4>性別</font>"
   ]
  },
  {
   "cell_type": "code",
   "execution_count": 64,
   "metadata": {},
   "outputs": [
    {
     "data": {
      "text/plain": [
       "array(['Man', 'Prefer not to say', 'Woman',\n",
       "       'Non-binary, genderqueer, or gender non-conforming',\n",
       "       'Man;Or, in your own words:', nan,\n",
       "       'Woman;Non-binary, genderqueer, or gender non-conforming',\n",
       "       'Man;Non-binary, genderqueer, or gender non-conforming',\n",
       "       'Or, in your own words:', 'Man;Woman',\n",
       "       'Man;Woman;Non-binary, genderqueer, or gender non-conforming;Or, in your own words:',\n",
       "       'Non-binary, genderqueer, or gender non-conforming;Or, in your own words:',\n",
       "       'Woman;Or, in your own words:',\n",
       "       'Man;Woman;Non-binary, genderqueer, or gender non-conforming',\n",
       "       'Man;Non-binary, genderqueer, or gender non-conforming;Or, in your own words:',\n",
       "       'Woman;Non-binary, genderqueer, or gender non-conforming;Or, in your own words:',\n",
       "       'Man;Woman;Or, in your own words:'], dtype=object)"
      ]
     },
     "execution_count": 64,
     "metadata": {},
     "output_type": "execute_result"
    }
   ],
   "source": [
    "df['Gender'].unique()\n"
   ]
  },
  {
   "cell_type": "code",
   "execution_count": 65,
   "metadata": {},
   "outputs": [],
   "source": [
    "df['Gender'].replace('Non-binary, genderqueer, or gender non-conforming', 'Prefer not to say', inplace = True)\n",
    "df['Gender'].replace('Man;Or, in your own words:', 'Man', inplace = True)\n",
    "df['Gender'].replace('Woman;Non-binary, genderqueer, or gender non-conforming', 'Woman', inplace = True)\n",
    "df['Gender'].replace('Man;Non-binary, genderqueer, or gender non-conforming', 'Man', inplace = True)\n",
    "df['Gender'].replace('Or, in your own words:', 'Prefer not to say', inplace = True)\n",
    "df['Gender'].replace('Man;Woman', 'Prefer not to say', inplace = True)\n",
    "df['Gender'].replace('Man;Woman;Non-binary, genderqueer, or gender non-conforming;Or, in your own words:', 'Prefer not to say', inplace = True)\n",
    "df['Gender'].replace('Non-binary, genderqueer, or gender non-conforming;Or, in your own words:', 'Prefer not to say', inplace = True)\n",
    "df['Gender'].replace('Woman;Or, in your own words:', 'Woman', inplace = True)\n",
    "df['Gender'].replace('Man;Woman;Non-binary, genderqueer, or gender non-conforming:', 'Prefer not to say', inplace = True)\n",
    "df['Gender'].replace('Man;Non-binary, genderqueer, or gender non-conforming;Or, in your own words:', 'Man', inplace = True)\n",
    "df['Gender'].replace('Woman;Non-binary, genderqueer, or gender non-conforming;Or, in your own words:', 'Woman', inplace = True)\n",
    "df['Gender'].replace('Man;Woman;Or, in your own words:', 'Prefer not to say', inplace = True)\n",
    "df['Gender'].replace('Man;Woman;Non-binary, genderqueer, or gender non-conforming', 'Prefer not to say', inplace = True)\n"
   ]
  },
  {
   "cell_type": "code",
   "execution_count": 66,
   "metadata": {},
   "outputs": [
    {
     "data": {
      "text/plain": [
       "{'Man': '91.57%', 'Prefer not to say': '3.22%', 'Woman': '5.22%'}"
      ]
     },
     "execution_count": 66,
     "metadata": {},
     "output_type": "execute_result"
    }
   ],
   "source": [
    "gender_counter = Counter()\n",
    "gender_counter.update(df['Gender'])\n",
    "del gender_counter[np.NaN]\n",
    "\n",
    "gender_list = list(gender_counter.values())\n",
    "gender_np_list = np.array(list(gender_counter.values()))\n",
    "x = 0\n",
    "for b in gender_list:\n",
    "    x = x + b\n",
    "\n",
    "gender_percentage = (gender_np_list *100 / x).round(2)\n",
    "\n",
    "gender_pct = []\n",
    "for x in gender_percentage:\n",
    "    x = str(x) + '%'\n",
    "    gender_pct.append(x)\n",
    "\n",
    "i = 0\n",
    "gender_dict = {}\n",
    "for x in gender_counter.keys():\n",
    "    gender_dict[x] = gender_pct[i]\n",
    "    i += 1\n",
    "\n",
    "gender_dict"
   ]
  },
  {
   "cell_type": "markdown",
   "metadata": {},
   "source": [
    "##"
   ]
  },
  {
   "cell_type": "markdown",
   "metadata": {},
   "source": [
    "<font size = 4>標籤</font>"
   ]
  },
  {
   "cell_type": "code",
   "execution_count": 67,
   "metadata": {},
   "outputs": [],
   "source": [
    "a_keys = []\n",
    "for key in age_dict.keys():\n",
    "    key = str(key)\n",
    "    a_keys.append(key)\n",
    "\n",
    "a_values = []\n",
    "for value in age_dict.values():\n",
    "    value = str(value)\n",
    "    a_values.append(value)\n",
    "\n",
    "\n",
    "age_labels = []\n",
    "\n",
    "for i in range(0,8):\n",
    "    r = a_keys[i] + ': ' + a_values[i]\n",
    "    age_labels.append(r)\n",
    "\n",
    "\n",
    "\n",
    "\n",
    "g_keys = []\n",
    "for key in gender_dict.keys():\n",
    "    key = str(key)\n",
    "    g_keys.append(key)\n",
    "\n",
    "g_values = []\n",
    "for value in gender_dict.values():\n",
    "    value = str(value)\n",
    "    g_values.append(value)\n",
    "\n",
    "\n",
    "gender_labels = []\n",
    "\n",
    "for i in range(0,3):\n",
    "    r = g_keys[i] + ': ' + g_values[i]\n",
    "    gender_labels.append(r)\n",
    "\n"
   ]
  },
  {
   "cell_type": "code",
   "execution_count": 68,
   "metadata": {},
   "outputs": [
    {
     "data": {
      "text/plain": [
       "Text(0.5, 1.0, '受訪者性別比例')"
      ]
     },
     "execution_count": 68,
     "metadata": {},
     "output_type": "execute_result"
    },
    {
     "data": {
      "image/png": "[encoded data removed]",
      "text/plain": [
       "<Figure size 1080x1800 with 2 Axes>"
      ]
     },
     "metadata": {},
     "output_type": "display_data"
    }
   ],
   "source": [
    "fig, (age, gender) = plt.subplots(nrows = 1, ncols = 2, figsize=(15,25))\n",
    "\n",
    "slices = age_counter.values()\n",
    "labels = age_labels\n",
    "colors = [\"#b30000\", \"#7c1158\", \"#4421af\", \"#1a53ff\", \"#0d88e6\", \"#00b7c7\", \"#5ad45a\", \"#8be04e\"]\n",
    "\n",
    "age.pie(slices,colors = colors, wedgeprops = {'edgecolor': 'black'})\n",
    "\n",
    "age.legend(labels, loc = 'best')\n",
    "age.set_title('受訪者年齡比例', fontsize = 17)\n",
    "\n",
    "\n",
    "slices = gender_counter.values()\n",
    "labels = gender_labels\n",
    "colors = [\"#b30000\",\"#4421af\",\"#0d88e6\"]\n",
    "\n",
    "gender.pie(slices,colors = colors, wedgeprops = {'edgecolor': 'black'})\n",
    "\n",
    "gender.legend(labels, loc = 'best')\n",
    "gender.set_title('受訪者性別比例', fontsize = 17)\n"
   ]
  }
 ],
 "metadata": {
  "kernelspec": {
   "display_name": "Python 3.9.12 ('base')",
   "language": "python",
   "name": "python3"
  },
  "language_info": {
   "codemirror_mode": {
    "name": "ipython",
    "version": 3
   },
   "file_extension": ".py",
   "mimetype": "text/x-python",
   "name": "python",
   "nbconvert_exporter": "python",
   "pygments_lexer": "ipython3",
   "version": "3.9.12"
  },
  "orig_nbformat": 4,
  "vscode": {
   "interpreter": {
    "hash": "6969e2bba282ba60d804376b9853e02610a87f1dd29ba0f860c0615ff38487f8"
   }
  }
 },
 "nbformat": 4,
 "nbformat_minor": 2
}
